{
 "cells": [
  {
   "cell_type": "markdown",
   "metadata": {},
   "source": [
    "# Data import and preprocessing"
   ]
  },
  {
   "cell_type": "code",
   "execution_count": null,
   "metadata": {
    "collapsed": false
   },
   "outputs": [],
   "source": [
    "from pymongo import MongoClient\n",
    "import os\n",
    "import sys\n",
    "from nltk.tokenize import word_tokenize\n",
    "from nltk.corpus import stopwords\n",
    "import string\n",
    "from nltk.tokenize import RegexpTokenizer\n",
    "\n",
    "target_dir = \"files/gensim_prog_web\"\n",
    "\n",
    "tokenizer = RegexpTokenizer(r'\\w+')\n",
    "punctuation = set(string.punctuation)\n",
    "\n",
    "client = MongoClient()\n",
    "db = client['PROG_WEB']\n",
    "cursor = db.articles.find({}, {\"body\":1})\n",
    "\n",
    "documents = []\n",
    "for document in cursor:\n",
    "    remove_common_str = document.get(\"body\").replace(\"All News & Analysis All How-To All Recent News \", \"\")\n",
    "    tokenized_word_list = [word.lower() for word in word_tokenize(remove_common_str)]\n",
    "    filtered_stop_words = [word for word in tokenized_word_list if word not in set(stopwords.words('english'))]\n",
    "    filtered_punctuation = [word for word in filtered_stop_words if word not in set(string.punctuation)]\n",
    "    documents.append(filtered_punctuation)"
   ]
  },
  {
   "cell_type": "markdown",
   "metadata": {},
   "source": [
    "# Vector Space Model"
   ]
  },
  {
   "cell_type": "code",
   "execution_count": null,
   "metadata": {
    "collapsed": false,
    "scrolled": false
   },
   "outputs": [],
   "source": [
    "from gensim import corpora\n",
    "target_dir = \"files/gensim_prog_web\"\n",
    "\n",
    "dictionary = corpora.Dictionary(documents)\n",
    "dictionary.save(os.path.join(target_dir,\"prog_web.dict\"))\n",
    "corpus = [dictionary.doc2bow(doc) for doc in documents]\n",
    "corpora.MmCorpus.serialize(os.path.join(target_dir,\"prog_web.mm\"), corpus)"
   ]
  },
  {
   "cell_type": "markdown",
   "metadata": {},
   "source": [
    "# Train Model"
   ]
  },
  {
   "cell_type": "code",
   "execution_count": null,
   "metadata": {
    "collapsed": false
   },
   "outputs": [],
   "source": [
    "import gensim\n",
    "\n",
    "id2word = gensim.corpora.Dictionary.load(os.path.join(target_dir,\"prog_web.dict\"))\n",
    "mm = gensim.corpora.MmCorpus(os.path.join(target_dir,\"prog_web.mm\"))\n",
    "lda = gensim.models.ldamodel.LdaModel(corpus=mm, id2word=id2word, num_topics=10, update_every=0, passes=20)"
   ]
  },
  {
   "cell_type": "markdown",
   "metadata": {},
   "source": [
    "# Visualize and Interpret"
   ]
  },
  {
   "cell_type": "markdown",
   "metadata": {},
   "source": [
    "Running the code below should work and produce the pyLDAvis visualization. However, there seems to be a recent issue with the compatibility with Pandas 0.19.x that prevents this code from running. https://github.com/bmabey/pyLDAvis/issues/76"
   ]
  },
  {
   "cell_type": "code",
   "execution_count": null,
   "metadata": {
    "collapsed": false
   },
   "outputs": [],
   "source": [
    "import pyLDAvis\n",
    "\n",
    "data = pyLDAvis.gensim.prepare(lda, mm, id2word)\n",
    "pyLDAvis.display(data)\n"
   ]
  },
  {
   "cell_type": "code",
   "execution_count": null,
   "metadata": {
    "collapsed": true
   },
   "outputs": [],
   "source": []
  }
 ],
 "metadata": {
  "anaconda-cloud": {},
  "kernelspec": {
   "display_name": "Python [default]",
   "language": "python",
   "name": "python3"
  },
  "language_info": {
   "codemirror_mode": {
    "name": "ipython",
    "version": 3
   },
   "file_extension": ".py",
   "mimetype": "text/x-python",
   "name": "python",
   "nbconvert_exporter": "python",
   "pygments_lexer": "ipython3",
   "version": "3.5.2"
  }
 },
 "nbformat": 4,
 "nbformat_minor": 0
}
